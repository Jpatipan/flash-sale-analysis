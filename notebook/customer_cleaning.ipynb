{
 "cells": [
  {
   "cell_type": "code",
   "execution_count": 2,
   "id": "31fc99a9",
   "metadata": {},
   "outputs": [],
   "source": [
    "import pandas as pd\n",
    "import numpy as np"
   ]
  },
  {
   "cell_type": "code",
   "execution_count": 3,
   "id": "974d7516",
   "metadata": {},
   "outputs": [
    {
     "data": {
      "text/html": [
       "<div>\n",
       "<style scoped>\n",
       "    .dataframe tbody tr th:only-of-type {\n",
       "        vertical-align: middle;\n",
       "    }\n",
       "\n",
       "    .dataframe tbody tr th {\n",
       "        vertical-align: top;\n",
       "    }\n",
       "\n",
       "    .dataframe thead th {\n",
       "        text-align: right;\n",
       "    }\n",
       "</style>\n",
       "<table border=\"1\" class=\"dataframe\">\n",
       "  <thead>\n",
       "    <tr style=\"text-align: right;\">\n",
       "      <th></th>\n",
       "      <th>customer_id</th>\n",
       "      <th>gender</th>\n",
       "      <th>age</th>\n",
       "      <th>province</th>\n",
       "      <th>signup_date</th>\n",
       "    </tr>\n",
       "  </thead>\n",
       "  <tbody>\n",
       "    <tr>\n",
       "      <th>0</th>\n",
       "      <td>C0001</td>\n",
       "      <td>Male</td>\n",
       "      <td>46</td>\n",
       "      <td>Chonburi</td>\n",
       "      <td>2023-12-29</td>\n",
       "    </tr>\n",
       "    <tr>\n",
       "      <th>1</th>\n",
       "      <td>C0002</td>\n",
       "      <td>Male</td>\n",
       "      <td>26</td>\n",
       "      <td>Nakhon Ratchasima</td>\n",
       "      <td>2023-11-02</td>\n",
       "    </tr>\n",
       "    <tr>\n",
       "      <th>2</th>\n",
       "      <td>C0003</td>\n",
       "      <td>Male</td>\n",
       "      <td>43</td>\n",
       "      <td>Phuket</td>\n",
       "      <td>2021-10-07</td>\n",
       "    </tr>\n",
       "    <tr>\n",
       "      <th>3</th>\n",
       "      <td>C0004</td>\n",
       "      <td>Male</td>\n",
       "      <td>20</td>\n",
       "      <td>Chiang Mai</td>\n",
       "      <td>2023-08-30</td>\n",
       "    </tr>\n",
       "    <tr>\n",
       "      <th>4</th>\n",
       "      <td>C0005</td>\n",
       "      <td>Female</td>\n",
       "      <td>46</td>\n",
       "      <td>Chonburi</td>\n",
       "      <td>2021-05-23</td>\n",
       "    </tr>\n",
       "    <tr>\n",
       "      <th>...</th>\n",
       "      <td>...</td>\n",
       "      <td>...</td>\n",
       "      <td>...</td>\n",
       "      <td>...</td>\n",
       "      <td>...</td>\n",
       "    </tr>\n",
       "    <tr>\n",
       "      <th>95</th>\n",
       "      <td>C0096</td>\n",
       "      <td>Male</td>\n",
       "      <td>37</td>\n",
       "      <td>Khon Kaen</td>\n",
       "      <td>2023-05-23</td>\n",
       "    </tr>\n",
       "    <tr>\n",
       "      <th>96</th>\n",
       "      <td>C0097</td>\n",
       "      <td>Female</td>\n",
       "      <td>37</td>\n",
       "      <td>Chiang Mai</td>\n",
       "      <td>2023-03-07</td>\n",
       "    </tr>\n",
       "    <tr>\n",
       "      <th>97</th>\n",
       "      <td>C0098</td>\n",
       "      <td>Male</td>\n",
       "      <td>25</td>\n",
       "      <td>Nakhon Ratchasima</td>\n",
       "      <td>2022-02-24</td>\n",
       "    </tr>\n",
       "    <tr>\n",
       "      <th>98</th>\n",
       "      <td>C0099</td>\n",
       "      <td>Female</td>\n",
       "      <td>45</td>\n",
       "      <td>Nakhon Ratchasima</td>\n",
       "      <td>2023-11-13</td>\n",
       "    </tr>\n",
       "    <tr>\n",
       "      <th>99</th>\n",
       "      <td>C0100</td>\n",
       "      <td>Male</td>\n",
       "      <td>24</td>\n",
       "      <td>Bangkok</td>\n",
       "      <td>2021-06-29</td>\n",
       "    </tr>\n",
       "  </tbody>\n",
       "</table>\n",
       "<p>100 rows × 5 columns</p>\n",
       "</div>"
      ],
      "text/plain": [
       "   customer_id  gender  age           province signup_date\n",
       "0        C0001    Male   46           Chonburi  2023-12-29\n",
       "1        C0002    Male   26  Nakhon Ratchasima  2023-11-02\n",
       "2        C0003    Male   43             Phuket  2021-10-07\n",
       "3        C0004    Male   20         Chiang Mai  2023-08-30\n",
       "4        C0005  Female   46           Chonburi  2021-05-23\n",
       "..         ...     ...  ...                ...         ...\n",
       "95       C0096    Male   37          Khon Kaen  2023-05-23\n",
       "96       C0097  Female   37         Chiang Mai  2023-03-07\n",
       "97       C0098    Male   25  Nakhon Ratchasima  2022-02-24\n",
       "98       C0099  Female   45  Nakhon Ratchasima  2023-11-13\n",
       "99       C0100    Male   24            Bangkok  2021-06-29\n",
       "\n",
       "[100 rows x 5 columns]"
      ]
     },
     "execution_count": 3,
     "metadata": {},
     "output_type": "execute_result"
    }
   ],
   "source": [
    "customers = pd.read_csv('../data/raw/customers.csv')\n",
    "customers"
   ]
  },
  {
   "cell_type": "code",
   "execution_count": 4,
   "id": "24077580",
   "metadata": {},
   "outputs": [
    {
     "data": {
      "text/html": [
       "<div>\n",
       "<style scoped>\n",
       "    .dataframe tbody tr th:only-of-type {\n",
       "        vertical-align: middle;\n",
       "    }\n",
       "\n",
       "    .dataframe tbody tr th {\n",
       "        vertical-align: top;\n",
       "    }\n",
       "\n",
       "    .dataframe thead th {\n",
       "        text-align: right;\n",
       "    }\n",
       "</style>\n",
       "<table border=\"1\" class=\"dataframe\">\n",
       "  <thead>\n",
       "    <tr style=\"text-align: right;\">\n",
       "      <th></th>\n",
       "      <th>customer_id</th>\n",
       "      <th>gender</th>\n",
       "      <th>age</th>\n",
       "      <th>province</th>\n",
       "      <th>signup_date</th>\n",
       "    </tr>\n",
       "  </thead>\n",
       "  <tbody>\n",
       "    <tr>\n",
       "      <th>0</th>\n",
       "      <td>C0001</td>\n",
       "      <td>Male</td>\n",
       "      <td>46</td>\n",
       "      <td>Chonburi</td>\n",
       "      <td>2023-12-29</td>\n",
       "    </tr>\n",
       "    <tr>\n",
       "      <th>1</th>\n",
       "      <td>C0002</td>\n",
       "      <td>Male</td>\n",
       "      <td>26</td>\n",
       "      <td>Nakhon Ratchasima</td>\n",
       "      <td>2023-11-02</td>\n",
       "    </tr>\n",
       "    <tr>\n",
       "      <th>2</th>\n",
       "      <td>C0003</td>\n",
       "      <td>Male</td>\n",
       "      <td>43</td>\n",
       "      <td>Phuket</td>\n",
       "      <td>2021-10-07</td>\n",
       "    </tr>\n",
       "    <tr>\n",
       "      <th>3</th>\n",
       "      <td>C0004</td>\n",
       "      <td>Male</td>\n",
       "      <td>20</td>\n",
       "      <td>Chiang Mai</td>\n",
       "      <td>2023-08-30</td>\n",
       "    </tr>\n",
       "    <tr>\n",
       "      <th>4</th>\n",
       "      <td>C0005</td>\n",
       "      <td>Female</td>\n",
       "      <td>46</td>\n",
       "      <td>Chonburi</td>\n",
       "      <td>2021-05-23</td>\n",
       "    </tr>\n",
       "  </tbody>\n",
       "</table>\n",
       "</div>"
      ],
      "text/plain": [
       "  customer_id  gender  age           province signup_date\n",
       "0       C0001    Male   46           Chonburi  2023-12-29\n",
       "1       C0002    Male   26  Nakhon Ratchasima  2023-11-02\n",
       "2       C0003    Male   43             Phuket  2021-10-07\n",
       "3       C0004    Male   20         Chiang Mai  2023-08-30\n",
       "4       C0005  Female   46           Chonburi  2021-05-23"
      ]
     },
     "execution_count": 4,
     "metadata": {},
     "output_type": "execute_result"
    }
   ],
   "source": [
    "customer_head = customers.head()\n",
    "customer_head\n",
    "\n"
   ]
  },
  {
   "cell_type": "code",
   "execution_count": 5,
   "id": "081c91d2",
   "metadata": {},
   "outputs": [
    {
     "data": {
      "text/html": [
       "<div>\n",
       "<style scoped>\n",
       "    .dataframe tbody tr th:only-of-type {\n",
       "        vertical-align: middle;\n",
       "    }\n",
       "\n",
       "    .dataframe tbody tr th {\n",
       "        vertical-align: top;\n",
       "    }\n",
       "\n",
       "    .dataframe thead th {\n",
       "        text-align: right;\n",
       "    }\n",
       "</style>\n",
       "<table border=\"1\" class=\"dataframe\">\n",
       "  <thead>\n",
       "    <tr style=\"text-align: right;\">\n",
       "      <th></th>\n",
       "      <th>customer_id</th>\n",
       "      <th>gender</th>\n",
       "      <th>age</th>\n",
       "      <th>province</th>\n",
       "      <th>signup_date</th>\n",
       "    </tr>\n",
       "  </thead>\n",
       "  <tbody>\n",
       "    <tr>\n",
       "      <th>95</th>\n",
       "      <td>C0096</td>\n",
       "      <td>Male</td>\n",
       "      <td>37</td>\n",
       "      <td>Khon Kaen</td>\n",
       "      <td>2023-05-23</td>\n",
       "    </tr>\n",
       "    <tr>\n",
       "      <th>96</th>\n",
       "      <td>C0097</td>\n",
       "      <td>Female</td>\n",
       "      <td>37</td>\n",
       "      <td>Chiang Mai</td>\n",
       "      <td>2023-03-07</td>\n",
       "    </tr>\n",
       "    <tr>\n",
       "      <th>97</th>\n",
       "      <td>C0098</td>\n",
       "      <td>Male</td>\n",
       "      <td>25</td>\n",
       "      <td>Nakhon Ratchasima</td>\n",
       "      <td>2022-02-24</td>\n",
       "    </tr>\n",
       "    <tr>\n",
       "      <th>98</th>\n",
       "      <td>C0099</td>\n",
       "      <td>Female</td>\n",
       "      <td>45</td>\n",
       "      <td>Nakhon Ratchasima</td>\n",
       "      <td>2023-11-13</td>\n",
       "    </tr>\n",
       "    <tr>\n",
       "      <th>99</th>\n",
       "      <td>C0100</td>\n",
       "      <td>Male</td>\n",
       "      <td>24</td>\n",
       "      <td>Bangkok</td>\n",
       "      <td>2021-06-29</td>\n",
       "    </tr>\n",
       "  </tbody>\n",
       "</table>\n",
       "</div>"
      ],
      "text/plain": [
       "   customer_id  gender  age           province signup_date\n",
       "95       C0096    Male   37          Khon Kaen  2023-05-23\n",
       "96       C0097  Female   37         Chiang Mai  2023-03-07\n",
       "97       C0098    Male   25  Nakhon Ratchasima  2022-02-24\n",
       "98       C0099  Female   45  Nakhon Ratchasima  2023-11-13\n",
       "99       C0100    Male   24            Bangkok  2021-06-29"
      ]
     },
     "execution_count": 5,
     "metadata": {},
     "output_type": "execute_result"
    }
   ],
   "source": [
    "customer_tail = customers.tail()\n",
    "customer_tail"
   ]
  },
  {
   "cell_type": "code",
   "execution_count": 6,
   "id": "b8d291cc",
   "metadata": {},
   "outputs": [
    {
     "data": {
      "text/plain": [
       "(100, 5)"
      ]
     },
     "execution_count": 6,
     "metadata": {},
     "output_type": "execute_result"
    }
   ],
   "source": [
    "customers.shape"
   ]
  },
  {
   "cell_type": "code",
   "execution_count": 7,
   "id": "ce578f6a",
   "metadata": {},
   "outputs": [
    {
     "name": "stdout",
     "output_type": "stream",
     "text": [
      "customer_id    object\n",
      "gender         object\n",
      "age             int64\n",
      "province       object\n",
      "signup_date    object\n",
      "dtype: object\n"
     ]
    }
   ],
   "source": [
    "print(customers.dtypes)"
   ]
  },
  {
   "cell_type": "code",
   "execution_count": 8,
   "id": "66691d3d",
   "metadata": {},
   "outputs": [
    {
     "name": "stdout",
     "output_type": "stream",
     "text": [
      "customer_id            object\n",
      "gender                 object\n",
      "age                     int64\n",
      "province               object\n",
      "signup_date    datetime64[ns]\n",
      "dtype: object\n"
     ]
    }
   ],
   "source": [
    "customers['signup_date'] = pd.to_datetime(customers['signup_date'])\n",
    "print(customers.dtypes)"
   ]
  },
  {
   "cell_type": "code",
   "execution_count": 9,
   "id": "61f79924",
   "metadata": {},
   "outputs": [
    {
     "data": {
      "text/plain": [
       "customer_id    0\n",
       "gender         0\n",
       "age            0\n",
       "province       0\n",
       "signup_date    0\n",
       "dtype: int64"
      ]
     },
     "execution_count": 9,
     "metadata": {},
     "output_type": "execute_result"
    }
   ],
   "source": [
    "customers.isnull().sum()"
   ]
  },
  {
   "cell_type": "code",
   "execution_count": 10,
   "id": "7158fe47",
   "metadata": {},
   "outputs": [
    {
     "data": {
      "text/plain": [
       "customer_id    0\n",
       "gender         0\n",
       "age            0\n",
       "province       0\n",
       "signup_date    0\n",
       "dtype: int64"
      ]
     },
     "execution_count": 10,
     "metadata": {},
     "output_type": "execute_result"
    }
   ],
   "source": [
    "customers.isna().sum()"
   ]
  },
  {
   "cell_type": "code",
   "execution_count": 11,
   "id": "41b51d60",
   "metadata": {},
   "outputs": [
    {
     "data": {
      "text/html": [
       "<div>\n",
       "<style scoped>\n",
       "    .dataframe tbody tr th:only-of-type {\n",
       "        vertical-align: middle;\n",
       "    }\n",
       "\n",
       "    .dataframe tbody tr th {\n",
       "        vertical-align: top;\n",
       "    }\n",
       "\n",
       "    .dataframe thead th {\n",
       "        text-align: right;\n",
       "    }\n",
       "</style>\n",
       "<table border=\"1\" class=\"dataframe\">\n",
       "  <thead>\n",
       "    <tr style=\"text-align: right;\">\n",
       "      <th></th>\n",
       "      <th>age</th>\n",
       "      <th>signup_date</th>\n",
       "    </tr>\n",
       "  </thead>\n",
       "  <tbody>\n",
       "    <tr>\n",
       "      <th>count</th>\n",
       "      <td>100.000000</td>\n",
       "      <td>100</td>\n",
       "    </tr>\n",
       "    <tr>\n",
       "      <th>mean</th>\n",
       "      <td>32.830000</td>\n",
       "      <td>2022-08-29 03:07:12</td>\n",
       "    </tr>\n",
       "    <tr>\n",
       "      <th>min</th>\n",
       "      <td>18.000000</td>\n",
       "      <td>2021-01-16 00:00:00</td>\n",
       "    </tr>\n",
       "    <tr>\n",
       "      <th>25%</th>\n",
       "      <td>24.750000</td>\n",
       "      <td>2022-01-11 18:00:00</td>\n",
       "    </tr>\n",
       "    <tr>\n",
       "      <th>50%</th>\n",
       "      <td>34.500000</td>\n",
       "      <td>2022-10-02 00:00:00</td>\n",
       "    </tr>\n",
       "    <tr>\n",
       "      <th>75%</th>\n",
       "      <td>40.250000</td>\n",
       "      <td>2023-05-24 06:00:00</td>\n",
       "    </tr>\n",
       "    <tr>\n",
       "      <th>max</th>\n",
       "      <td>50.000000</td>\n",
       "      <td>2023-12-29 00:00:00</td>\n",
       "    </tr>\n",
       "    <tr>\n",
       "      <th>std</th>\n",
       "      <td>9.498596</td>\n",
       "      <td>NaN</td>\n",
       "    </tr>\n",
       "  </tbody>\n",
       "</table>\n",
       "</div>"
      ],
      "text/plain": [
       "              age          signup_date\n",
       "count  100.000000                  100\n",
       "mean    32.830000  2022-08-29 03:07:12\n",
       "min     18.000000  2021-01-16 00:00:00\n",
       "25%     24.750000  2022-01-11 18:00:00\n",
       "50%     34.500000  2022-10-02 00:00:00\n",
       "75%     40.250000  2023-05-24 06:00:00\n",
       "max     50.000000  2023-12-29 00:00:00\n",
       "std      9.498596                  NaN"
      ]
     },
     "execution_count": 11,
     "metadata": {},
     "output_type": "execute_result"
    }
   ],
   "source": [
    "customers.describe()"
   ]
  }
 ],
 "metadata": {
  "kernelspec": {
   "display_name": "base",
   "language": "python",
   "name": "python3"
  },
  "language_info": {
   "codemirror_mode": {
    "name": "ipython",
    "version": 3
   },
   "file_extension": ".py",
   "mimetype": "text/x-python",
   "name": "python",
   "nbconvert_exporter": "python",
   "pygments_lexer": "ipython3",
   "version": "3.12.3"
  }
 },
 "nbformat": 4,
 "nbformat_minor": 5
}
